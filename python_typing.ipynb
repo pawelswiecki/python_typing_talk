{
 "cells": [
  {
   "cell_type": "markdown",
   "metadata": {},
   "source": [
    "# Python Typing -- Selected Topics\n",
    "\n",
    "* Based on:\n",
    "  * [PEP 483 -- The Theory of Type Hints](https://www.python.org/dev/peps/pep-0483)\n",
    "  \n",
    "  * [PEP 484 -- Type Hints](https://www.python.org/dev/peps/pep-0484)\n",
    "  \n",
    "  * Python Typing [docs](https://docs.python.org/3/library/typing.html) \n",
    "  \n",
    "  * mypy [docs](https://mypy.readthedocs.io/en/latest/)\n",
    "  \n",
    "  * mypy [github issues](https://github.com/python/mypy/issues)\n",
    "  \n",
    "  * some experience\n",
    "\n",
    "\n",
    "* Using:\n",
    "  * **Python 3.6**\n",
    "  * **mypy==0.600** (official type checker, there is also Facebook's [pyre-check](https://github.com/facebook/pyre-check))"
   ]
  },
  {
   "cell_type": "markdown",
   "metadata": {},
   "source": [
    "## Type vs Class\n",
    "\n",
    "* Type is a type checker concept.\n",
    "\n",
    "* Class is a runtime concept.\n",
    "\n",
    "**Types can be defined:**\n",
    "\n",
    "* By explicitly listing all values. E.g., `True` and `False` form the type `bool`.\n",
    "\n",
    "\n",
    "* By a simple class definition, for example if one defines a class:\n",
    "\n",
    "    ```python\n",
    "    class UserID(int):\n",
    "        pass\n",
    "    ```\n",
    "then all instances of this class also form a type.\n",
    "\n",
    "\n",
    "* By specifying functions which can be used with variables of a type. E.g. all objects that have a `__len__` method form the type `Sized`. Both `[1, 2, 3]` and 'abc' belong to this type, since one can call len on them:\n",
    "\n",
    "```python\n",
    "len([1, 2, 3])  # OK\n",
    "len('abc')      # also OK\n",
    "len(42)         # not a member of Sized\n",
    "```\n",
    "\n",
    "\n",
    "* There are also more complex types. E.g., one can define the type `FancyList` as all lists containing only instances of `int`, `str` or their subclasses. The value `[1, 'abc', UserID(42)]` has this type.\n",
    "\n",
    "[source](https://www.python.org/dev/peps/pep-0483/#background)"
   ]
  },
  {
   "cell_type": "markdown",
   "metadata": {},
   "source": [
    "## Type annotation syntax"
   ]
  },
  {
   "cell_type": "markdown",
   "metadata": {},
   "source": [
    "### Annotating variables\n",
    "\n",
    "```python\n",
    "variable: a_type\n",
    "```\n",
    "\n",
    "or\n",
    "\n",
    "```python\n",
    "variable: a_type = value\n",
    "```"
   ]
  },
  {
   "cell_type": "code",
   "execution_count": null,
   "metadata": {},
   "outputs": [],
   "source": [
    "width: int = 10  # no mypy error\n",
    "    \n",
    "height: int = 15.5  # error:\n",
    "# Incompatible types in assignment (expression has type \"float\", variable has type \"int\")"
   ]
  },
  {
   "cell_type": "code",
   "execution_count": null,
   "metadata": {},
   "outputs": [],
   "source": [
    "class Person:\n",
    "    pass\n",
    "\n",
    "bob: Person  # mo mypy error"
   ]
  },
  {
   "cell_type": "markdown",
   "metadata": {},
   "source": [
    "No value is assigned, yes. In this case there is no `bob` in runtime (using it would raise `NameError`). It's for type checker -- now it knows its type."
   ]
  },
  {
   "cell_type": "code",
   "execution_count": null,
   "metadata": {},
   "outputs": [],
   "source": [
    "from typing import Iterable\n",
    "\n",
    "get_users = lambda: []\n",
    "\n",
    "users: Iterable = get_users()"
   ]
  },
  {
   "cell_type": "markdown",
   "metadata": {},
   "source": [
    "### Annotating functions\n",
    "\n",
    "```python\n",
    "def function(attr1: Type1, attr2: Type2) -> ReturnType: ...\n",
    "```"
   ]
  },
  {
   "cell_type": "code",
   "execution_count": null,
   "metadata": {},
   "outputs": [],
   "source": [
    "def add_ints(x: int, y: int) -> int:\n",
    "    return x + y\n",
    "\n",
    "add_ints(1, 2)    # no mypy error\n",
    "add_ints(1, 2.0)  # error: Argument 2 to \"add_ints\" has incompatible type \"float\"; expected \"int\""
   ]
  },
  {
   "cell_type": "code",
   "execution_count": null,
   "metadata": {},
   "outputs": [],
   "source": [
    "def broken_add(x: int, y: int) -> str:\n",
    "    return x + y\n",
    "\n",
    "# error: Incompatible return value type (got \"int\", expected \"str\")"
   ]
  },
  {
   "cell_type": "markdown",
   "metadata": {},
   "source": [
    "## Building blocks"
   ]
  },
  {
   "cell_type": "markdown",
   "metadata": {},
   "source": [
    "### `Any`"
   ]
  },
  {
   "cell_type": "markdown",
   "metadata": {},
   "source": [
    "`Any` is consistent with every type and every type is consistent with `Any`.\n",
    "\n",
    "> [W]hen a value has type Any, the type checker will allow all operations on it, and a value of type Any can be assigned to a variable (or used as a return value) of a more constrained type. \n",
    "\n",
    "[https://www.python.org/dev/peps/pep-0484/#the-any-type]"
   ]
  },
  {
   "cell_type": "code",
   "execution_count": null,
   "metadata": {},
   "outputs": [],
   "source": [
    "from typing import Any"
   ]
  },
  {
   "cell_type": "code",
   "execution_count": null,
   "metadata": {},
   "outputs": [],
   "source": [
    "# checking types\n",
    "\n",
    "lassie: Dog\n",
    "anything: Any\n",
    "    \n",
    "lassie = anything  # no mypy error"
   ]
  },
  {
   "cell_type": "code",
   "execution_count": null,
   "metadata": {},
   "outputs": [],
   "source": [
    "lassie: Dog\n",
    "anything: Any\n",
    "    \n",
    "anything = lassie  # no mypy error"
   ]
  },
  {
   "cell_type": "code",
   "execution_count": null,
   "metadata": {},
   "outputs": [],
   "source": [
    "# checking attributes\n",
    "\n",
    "lassie: Dog\n",
    "lassie.bark()  # no mypy error\n",
    "lassie.fly()   # error: \"Dog\" has no attribute \"fly\"\n",
    "\n",
    "anything: Any\n",
    "anything.enter_hiperspace()  # no mypy error"
   ]
  },
  {
   "cell_type": "markdown",
   "metadata": {},
   "source": [
    "> `Any` can be considered a type that has all values and all methods. Combined with the definition of subtyping above, this places `Any` partially at the top (it has all values) and bottom (it has all methods) of the type hierarchy.\n",
    "\n",
    "[https://www.python.org/dev/peps/pep-0483/#summary-of-gradual-typing]"
   ]
  },
  {
   "cell_type": "markdown",
   "metadata": {},
   "source": [
    "```\n",
    "                      Any                     <- everything is Any                             \n",
    "                      / \\                        (like `object`              \n",
    "                     /*  \\*                       -- everything is `object`)                 \n",
    "                    /     \\                                         \n",
    "            SomeType1     SomeType2                                   \n",
    "           /       |       |       \\                                   \n",
    "          /        |       |        \\                                  \n",
    "         /         |       |         \\                                 \n",
    " Subtype1_1  Subtype1_2  Subtype2_1  Subtype2_2                           \n",
    "     |          |           |           |                              \n",
    "     |*         |*          |*          |*                             \n",
    "     |          |           |           |                              \n",
    "    Any        Any         Any         Any       <- Any has all attributes\n",
    "                                                     (unlike `object`\n",
    "                                                      -- `object` has no attrs)\n",
    "                                                      \n",
    "* consistency relationship, not subtyping, see below\n",
    "```"
   ]
  },
  {
   "cell_type": "markdown",
   "metadata": {},
   "source": [
    "Mind that relation between `Any` and other types is not subtyping relationship but being-consistent-with relationship. For formal definition and more context see https://www.python.org/dev/peps/pep-0483/#summary-of-gradual-typing."
   ]
  },
  {
   "cell_type": "markdown",
   "metadata": {},
   "source": [
    "### `Union`"
   ]
  },
  {
   "cell_type": "markdown",
   "metadata": {},
   "source": [
    "> `Union[t1, t2, ...]`. \n",
    "> Types that are subtype of at least one of t1 etc. are subtypes of this."
   ]
  },
  {
   "cell_type": "code",
   "execution_count": null,
   "metadata": {},
   "outputs": [],
   "source": [
    "from typing import Union"
   ]
  },
  {
   "cell_type": "code",
   "execution_count": null,
   "metadata": {},
   "outputs": [],
   "source": [
    "class Animal:\n",
    "    def eat(self): pass\n",
    "    \n",
    "class Dog(Animal): pass   \n",
    "class Cat(Animal): pass\n",
    "class Lizard(Animal): pass\n",
    "\n",
    "# only Cats and Dogs are allowed to eat :(\n",
    "def restricted_eat(animal: Union[Dog, Cat]) -> None:\n",
    "    animal.eat()\n",
    "    \n",
    "a_dog: Dog\n",
    "restricted_eat(a_dog)  # no mypy error\n",
    "\n",
    "a_cat: Cat\n",
    "restricted_eat(a_cat)  # no mypy error\n",
    "\n",
    "a_lizard: Lizard\n",
    "restricted_eat(a_lizard)  #  error: Argument 1 to \"restricted_eat\" has incompatible type \"Lizard\"; expected \"Union[Dog, Cat]\""
   ]
  },
  {
   "cell_type": "markdown",
   "metadata": {},
   "source": [
    "Keep in mind that **no runtime checks** are made here!"
   ]
  },
  {
   "cell_type": "markdown",
   "metadata": {},
   "source": [
    "### `Optional` and constraining types"
   ]
  },
  {
   "cell_type": "markdown",
   "metadata": {},
   "source": [
    "> `Optional[t1]`. Alias for `Union[t1, None]`, i.e. `Union[t1, type(None)]`."
   ]
  },
  {
   "cell_type": "code",
   "execution_count": null,
   "metadata": {},
   "outputs": [],
   "source": [
    "from typing import Optional\n",
    "\n",
    "def get_user_id() -> Optional[int]:\n",
    "    pass\n",
    "\n",
    "def process_user_id(user_id: int):\n",
    "    pass\n",
    "\n",
    "user_id = get_user_id()\n",
    "process_user_id(user_id)  # error: \n",
    "# Argument 1 to \"process_pk\" has incompatible type \"Optional[int]\"; expected \"int\""
   ]
  },
  {
   "cell_type": "markdown",
   "metadata": {},
   "source": [
    "If we are, for some reason, sure that `get_pk()` will return an `int` (from context or we understand our code better than type checker) we can inform type checker of it."
   ]
  },
  {
   "cell_type": "markdown",
   "metadata": {},
   "source": [
    "#### Type constraining with new type information [INCORRECT]\n",
    "\n",
    "Let's try the simplest approach by giving a variable more strict type, with typing syntax."
   ]
  },
  {
   "cell_type": "code",
   "execution_count": null,
   "metadata": {},
   "outputs": [],
   "source": [
    "user_id: int = get_user_id()  # error: \n",
    "# Incompatible types in assignment (expression has type \"Optional[int]\", variable has type \"int\")\n",
    "\n",
    "process_user_id(user_id)"
   ]
  },
  {
   "cell_type": "markdown",
   "metadata": {},
   "source": [
    "We cannot do that: typing variable _does not force_ types on variables, it _informs_ about types. If there is any inconsistency type checker will report it. (If this approach was correct the whole type checking would in fact collapse.)\n",
    "\n",
    "There are at least two correct ways to inform type checker about type different than expected."
   ]
  },
  {
   "cell_type": "markdown",
   "metadata": {},
   "source": [
    "#### Type constraining with assertions [CORRECT]"
   ]
  },
  {
   "cell_type": "code",
   "execution_count": null,
   "metadata": {},
   "outputs": [],
   "source": [
    "user_id = get_user_id()\n",
    "\n",
    "assert isinstance(user_id, int)  # or: `user_id is not None`\n",
    "process_user_id(user_id)  # no mypy error"
   ]
  },
  {
   "cell_type": "markdown",
   "metadata": {},
   "source": [
    "This introduces small runtime overhead. In bonus we get additional runtime checks.\n",
    "\n",
    "(This technique *is not* part of the official typing protocol, but it's mypy's behaviour.)"
   ]
  },
  {
   "cell_type": "markdown",
   "metadata": {},
   "source": [
    "#### Type constraining with type casting [CORRECT]"
   ]
  },
  {
   "cell_type": "code",
   "execution_count": null,
   "metadata": {},
   "outputs": [],
   "source": [
    "from typing import cast\n",
    "\n",
    "user_id = cast(int, get_user_id())\n",
    "process_user_id(user_id)  # no mypy error"
   ]
  },
  {
   "cell_type": "markdown",
   "metadata": {},
   "source": [
    "This has even less overhead -- in runtime cast is an identity function:\n",
    "```python\n",
    "def cast(typ, val):\n",
    "    return val\n",
    "```\n",
    "[https://github.com/python/typing/blob/master/src/typing.py#L1433-L1441]\n",
    "\n",
    "So no runtime checks are performed. Typechecker is to blindly believe the given type. \n",
    "\n",
    "(This technique *is* part of the official typing protocol.)\n"
   ]
  },
  {
   "cell_type": "markdown",
   "metadata": {},
   "source": [
    "### `List` and `Tuple`/`NamedTuple`"
   ]
  },
  {
   "cell_type": "code",
   "execution_count": null,
   "metadata": {},
   "outputs": [],
   "source": [
    "from typing import List\n",
    "\n",
    "my_list: List[int] = [1, 2, 3]  # no mypy error\n",
    "    \n",
    "my_other_list: List[int] = [1, 2, '3']  #  error: \n",
    "# List item 2 has incompatible type \"str\"; expected \"int\""
   ]
  },
  {
   "cell_type": "code",
   "execution_count": null,
   "metadata": {},
   "outputs": [],
   "source": [
    "from typing import Tuple\n",
    "\n",
    "bob: Tuple[str, str, int] = ('Bob', 'Smith', 25)  # no mypy error\n",
    "    \n",
    "frank: Tuple[str, str, int] = ('Frank', 'Brown', 43.4)  # error:\n",
    "# Incompatible types in assignment (expression has type \"Tuple[str, str, float]\", variable has type \"Tuple[str, str, int]\")\n",
    "\n",
    "ann: Tuple[str, str, int] = ('Ann', 'X', 1, 2)  # error: \n",
    "# Incompatible types in assignment (expression has type \"Tuple[str, str, int, int]\", variable has type \"Tuple[str, str, int]\")\n",
    "\n",
    "# we can use ellipsis to define type repetition\n",
    "immutable_list: Tuple[int, ...] = (5, 8, 4, -1)  # no mypy error"
   ]
  },
  {
   "cell_type": "code",
   "execution_count": null,
   "metadata": {},
   "outputs": [],
   "source": [
    "from typing import NamedTuple\n",
    "\n",
    "class Person(NamedTuple):\n",
    "    first_name: str\n",
    "    last_name: str\n",
    "    age: int\n",
    "        \n",
    "Person('Kate', 'Smith', '32')  # error: \n",
    "# Argument 3 to \"Person\" has incompatible type \"str\"; expected \"int\""
   ]
  },
  {
   "cell_type": "markdown",
   "metadata": {},
   "source": [
    "### ABCs/protocols/Duck Types"
   ]
  },
  {
   "cell_type": "code",
   "execution_count": null,
   "metadata": {},
   "outputs": [],
   "source": [
    "from typing import Collection, Sequence\n",
    "\n",
    "names1: Collection = {'Frank', 'Bob', 'Kate'}  # no mypy error\n",
    "\n",
    "names2: Sequence = {'Frank', 'Bob', 'Kate'}  # error:\n",
    "# Incompatible types in assignment (expression has type \"Set[str]\", variable has type \"Sequence[Any]\")"
   ]
  },
  {
   "cell_type": "code",
   "execution_count": null,
   "metadata": {},
   "outputs": [],
   "source": [
    "from typing import Container\n",
    "\n",
    "class C:\n",
    "    def __contains__(self, obj) -> bool:\n",
    "        pass    \n",
    "c1: Container = C()  # no mypy error\n",
    "\n",
    "c2: Container = object()  # error:\n",
    "# Incompatible types in assignment (expression has type \"object\", variable has type \"Container[Any]\")"
   ]
  },
  {
   "cell_type": "markdown",
   "metadata": {},
   "source": [
    "### Aliases"
   ]
  },
  {
   "cell_type": "code",
   "execution_count": null,
   "metadata": {},
   "outputs": [],
   "source": [
    "from typing import Iterable, Tuple\n",
    "\n",
    "UserId = int\n",
    "FirstName = str\n",
    "LastName = str\n",
    "\n",
    "Employee = Tuple[UserId, FirstName, LastName]\n",
    "Employees = Iterable[Employee]"
   ]
  },
  {
   "cell_type": "code",
   "execution_count": null,
   "metadata": {},
   "outputs": [],
   "source": [
    "employees1: Employees = [\n",
    "    (1345, 'Bob', 'Smith'),\n",
    "    (177, 'Kate', 'Brown'),\n",
    "]  # no mypy errors"
   ]
  },
  {
   "cell_type": "code",
   "execution_count": null,
   "metadata": {},
   "outputs": [],
   "source": [
    "employees2: Employees = [\n",
    "    ('445', 'Frank', 'Smith'),\n",
    "]  # error: List item 0 has incompatible type \"Tuple[str, str, str]\"; expected \"Tuple[int, str, str]\""
   ]
  },
  {
   "cell_type": "markdown",
   "metadata": {},
   "source": [
    "There are at least two benefits of using aliases:\n",
    "\n",
    "* Less typing in case of complex types.\n",
    "\n",
    "* This helps with bringing business logic to the front."
   ]
  },
  {
   "cell_type": "markdown",
   "metadata": {},
   "source": [
    "### `NewType` helper function"
   ]
  },
  {
   "cell_type": "markdown",
   "metadata": {},
   "source": [
    "Let's say we have `user_id` which is an `int`, but we don't want to mix it up with other `int`s. "
   ]
  },
  {
   "cell_type": "code",
   "execution_count": null,
   "metadata": {},
   "outputs": [],
   "source": [
    "def update_height(user_id: int, new_height: int):\n",
    "    pass\n",
    "\n",
    "user_id = 1138\n",
    "new_height = 44\n",
    "update_height(new_height, user_id)  # no mypy error, yet the code is wrong"
   ]
  },
  {
   "cell_type": "markdown",
   "metadata": {},
   "source": [
    "#### Approach 1"
   ]
  },
  {
   "cell_type": "code",
   "execution_count": null,
   "metadata": {},
   "outputs": [],
   "source": [
    "class UserId(int):\n",
    "    pass\n",
    "\n",
    "def update_height(user_id: UserId, new_height: int):\n",
    "    pass\n",
    "\n",
    "user_id = UserId(1138)\n",
    "new_height = 44\n",
    "update_height(new_height, user_id) # error: \n",
    "# Argument 1 to \"update_height\" has incompatible type \"int\"; expected \"UserId\""
   ]
  },
  {
   "cell_type": "markdown",
   "metadata": {},
   "source": [
    "#### Approach 2\n",
    "\n",
    "Unfortunately passing value through a class constructor introduces runtime overhead. `NewType` deals with it:"
   ]
  },
  {
   "cell_type": "code",
   "execution_count": null,
   "metadata": {},
   "outputs": [],
   "source": [
    "from typing import NewType\n",
    "\n",
    "UserId = NewType('UserId', int)\n",
    "\n",
    "def update_height(user_id: UserId, new_height: int):\n",
    "    pass\n",
    "\n",
    "user_id = UserId(1138)\n",
    "new_height = 44\n",
    "update_height(new_height, user_id)  #  error:\n",
    "# Argument 1 to \"update_height\" has incompatible type \"int\"; expected \"UserId\""
   ]
  },
  {
   "cell_type": "markdown",
   "metadata": {},
   "source": [
    "Minimal overhead in runtime, since `NewType` simply returns an identity function:\n",
    "\n",
    "```python\n",
    "def NewType(name, tp):\n",
    "    def new_type(x):\n",
    "        return x\n",
    "\n",
    "    new_type.__name__ = name\n",
    "    new_type.__supertype__ = tp\n",
    "    return new_type\n",
    "```\n",
    "\n",
    "[https://github.com/python/typing/blob/master/src/typing.py#L2210-L2234"
   ]
  },
  {
   "cell_type": "markdown",
   "metadata": {},
   "source": [
    "### `Callable`\n",
    "\n",
    "> `Callable[[t1, t2, ..., tn], tr]`. A function with positional argument types t1 etc., and return type tr. The argument list may be empty n==0.\n",
    "\n",
    "[source](https://www.python.org/dev/peps/pep-0483/#fundamental-building-blocks)"
   ]
  },
  {
   "cell_type": "code",
   "execution_count": null,
   "metadata": {},
   "outputs": [],
   "source": [
    "from typing import Callable\n",
    "\n",
    "def transform_text(text: str, transformer: Callable[[str], str]) -> str:\n",
    "    return transformer(text)"
   ]
  },
  {
   "cell_type": "code",
   "execution_count": null,
   "metadata": {},
   "outputs": [],
   "source": [
    "transform_text(\n",
    "    text='abracadabra',\n",
    "    transformer=lambda text: text.replace('a', 'b'),\n",
    ")  # no mypy error"
   ]
  },
  {
   "cell_type": "code",
   "execution_count": null,
   "metadata": {},
   "outputs": [],
   "source": [
    "transform_text(\n",
    "    text='abracadabra',\n",
    "    transformer=lambda text: len(text),\n",
    ")  # two mypy errors"
   ]
  },
  {
   "cell_type": "markdown",
   "metadata": {},
   "source": [
    "For this code mypy catches two errors:\n",
    "\n",
    "- ```\n",
    "error: Argument \"transformer\" to \"transform_text\" has incompatible type \"Callable[[str], int]\"; expected \"Callable[[str], str]\"\n",
    "```\n",
    "\n",
    "- ```\n",
    "error: Incompatible return value type (got \"int\", expected \"str\")\n",
    "```\n",
    "\n",
    "The second errors compains about wrong return type of `transform_text`. It's a consequence of wrong return type of the `lambda` function (first error)."
   ]
  },
  {
   "cell_type": "markdown",
   "metadata": {},
   "source": [
    "## Covariance and contravariance"
   ]
  },
  {
   "cell_type": "markdown",
   "metadata": {},
   "source": [
    "Let's study the following code:"
   ]
  },
  {
   "cell_type": "code",
   "execution_count": null,
   "metadata": {},
   "outputs": [],
   "source": [
    "class Food:\n",
    "    pass\n",
    "\n",
    "class DogFood(Food):\n",
    "    pass\n",
    "\n",
    "class Animal:\n",
    "    def eat(self, food: Food):\n",
    "        pass\n",
    "\n",
    "class Dog(Animal):\n",
    "    def eat(self, food: DogFood):  # mypy error   \n",
    "        pass"
   ]
  },
  {
   "cell_type": "markdown",
   "metadata": {},
   "source": [
    "The code might seems perfectly fine, yet mypy is not happy. For line marked with a comment it reports the following error:\n",
    "\n",
    "**```error: Argument 1 of \"eat\" incompatible with supertype \"Animal\"```**.\n",
    "\n",
    "Why is that? Why the type of argument `food` of `Dog.eat()` is incompatible with argument `food` of `Animal.eat()`? It seems natural that more general  `Food` is used by more general `Animal` type and less general `DogFood` is used by less general `Dog` type.\n",
    "\n",
    "To understand this we need to take a look at some theory:"
   ]
  },
  {
   "cell_type": "markdown",
   "metadata": {},
   "source": [
    "### Subtyping -- definition\n",
    "\n",
    "Let `<:` mean \"is a subtype of\". (So `A <: B` reads \"`A` is a subtype of `B`\".)\n",
    "\n",
    "`B <: A` iff:\n",
    "\n",
    "1. every value from `B` is also in the set of values of `A`; and\n",
    "\n",
    "2. every function from `A` is also in the set of functions of `B`.\n",
    "\n",
    "So the set of values becomes smaller in the process of subtyping, while the set of functions becomes larger. \n",
    "\n",
    "`Dog <: Animal`:\n",
    "\n",
    "1. There are less `Dog`s than `Animal`s (every `Dog` is an `Animal`, but not other way around).\n",
    "\n",
    "2. `Animal`s can do less than `Dog`s (`Dog` can do whatever `Animal` can, but not other way around). `Animal`s can't bark like `Dog`s, but both can eat and breathe."
   ]
  },
  {
   "cell_type": "code",
   "execution_count": null,
   "metadata": {},
   "outputs": [],
   "source": [
    "class Animal:\n",
    "    def eat(self): pass\n",
    "    def breathe(self): pass\n",
    "\n",
    "class Dog(Animal):\n",
    "    def bark(self): pass"
   ]
  },
  {
   "cell_type": "markdown",
   "metadata": {},
   "source": [
    "### Subtyping -- assignment rules\n",
    "\n",
    "Let's try to assign instance of one to the other."
   ]
  },
  {
   "cell_type": "code",
   "execution_count": null,
   "metadata": {},
   "outputs": [],
   "source": [
    "# Dog <: Animal\n",
    "lassie: Dog\n",
    "some_animal: Animal\n",
    "    \n",
    "some_animal = lassie  # no mypy error"
   ]
  },
  {
   "cell_type": "markdown",
   "metadata": {},
   "source": [
    "Assigning `lassie` to `some_animal` is type-safe because `lassie` is guaranteed to be an `Animal`."
   ]
  },
  {
   "cell_type": "code",
   "execution_count": null,
   "metadata": {},
   "outputs": [],
   "source": [
    "# Dog <: Animal\n",
    "lassie: Dog\n",
    "some_animal: Animal\n",
    "    \n",
    "lassie = some_animal  # error:\n",
    "# Incompatible types in assignment (expression has type \"Animal\", variable has type \"Dog\")"
   ]
  },
  {
   "cell_type": "markdown",
   "metadata": {},
   "source": [
    "Assigning `some_animal` to `lassie` is not type-safe because `some_animal` might be a non-Dog."
   ]
  },
  {
   "cell_type": "markdown",
   "metadata": {},
   "source": [
    "**In case of function's arguments subtyping works the other way around:**"
   ]
  },
  {
   "cell_type": "code",
   "execution_count": null,
   "metadata": {},
   "outputs": [],
   "source": [
    "from typing import Callable"
   ]
  },
  {
   "cell_type": "code",
   "execution_count": null,
   "metadata": {},
   "outputs": [],
   "source": [
    "animal_eat: Callable[[Animal], None]\n",
    "dog_eat: Callable[[Dog], None]\n",
    "\n",
    "animal_eat = dog_eat  # error:\n",
    "# Incompatible types in assignment (expression has type \"Callable[[Dog], None]\", variable has type \"Callable[[Animal], None]\")"
   ]
  },
  {
   "cell_type": "code",
   "execution_count": null,
   "metadata": {},
   "outputs": [],
   "source": [
    "animal_eat: Callable[[Animal], None]\n",
    "dog_eat: Callable[[Dog], None]\n",
    "    \n",
    "dog_eat = animal_eat  # no mypy error"
   ]
  },
  {
   "cell_type": "markdown",
   "metadata": {},
   "source": [
    "So `Callable[[Animal], None] <: Callable[[Dog], None]`."
   ]
  },
  {
   "cell_type": "code",
   "execution_count": null,
   "metadata": {},
   "outputs": [],
   "source": [
    "..."
   ]
  },
  {
   "cell_type": "code",
   "execution_count": null,
   "metadata": {},
   "outputs": [],
   "source": [
    "from typing import Generic, TypeVar\n",
    " \n",
    "class Base:\n",
    "    pass\n",
    "\n",
    "class X(Base):\n",
    "    pass\n",
    "class Y(Base):\n",
    "    pass\n",
    "class Z(Base):\n",
    "    pass\n",
    "\n",
    "T = TypeVar('T', X, Y, Z) \n",
    "\n",
    "class B(Generic[T]):\n",
    "    def method(self, arg: T) -> None: ...\n",
    "\n",
    "class C(B[X]):\n",
    "    def method(self, arg: X) -> None: ...\n",
    "\n",
    "class D(B[Y]):\n",
    "    def method(self, arg: Y) -> None: ...\n"
   ]
  },
  {
   "cell_type": "code",
   "execution_count": null,
   "metadata": {},
   "outputs": [],
   "source": [
    "..."
   ]
  }
 ],
 "metadata": {
  "kernelspec": {
   "display_name": "Python 3",
   "language": "python",
   "name": "python3"
  },
  "language_info": {
   "codemirror_mode": {
    "name": "ipython",
    "version": 3
   },
   "file_extension": ".py",
   "mimetype": "text/x-python",
   "name": "python",
   "nbconvert_exporter": "python",
   "pygments_lexer": "ipython3",
   "version": "3.6.5"
  }
 },
 "nbformat": 4,
 "nbformat_minor": 2
}
