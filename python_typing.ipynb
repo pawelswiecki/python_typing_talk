{
 "cells": [
  {
   "cell_type": "markdown",
   "metadata": {},
   "source": [
    "# Python Typing -- Selected Topics\n",
    "\n",
    "* Based on:\n",
    "  * [PEP 483 -- The Theory of Type Hints](https://www.python.org/dev/peps/pep-0483)\n",
    "  \n",
    "  * [PEP 484 -- Type Hints](https://www.python.org/dev/peps/pep-0484)\n",
    "  \n",
    "  * Python Typing [docs](https://docs.python.org/3/library/typing.html) \n",
    "  \n",
    "  * mypy [docs](https://mypy.readthedocs.io/en/latest/)\n",
    "  \n",
    "  * mypy [github issues](https://github.com/python/mypy/issues)\n",
    "  \n",
    "  * some experience\n",
    "\n",
    "\n",
    "* Using:\n",
    "  * **Python 3.6**\n",
    "  * **mypy==0.600** (official type checker, there is also Facebook's [pyre-check](https://github.com/facebook/pyre-check))"
   ]
  },
  {
   "cell_type": "markdown",
   "metadata": {},
   "source": [
    "## Type vs Class\n",
    "\n",
    "* Type is a type checker concept.\n",
    "\n",
    "* Class is a runtime concept.\n",
    "\n",
    "**Types can be defined:**\n",
    "\n",
    "* By explicitly listing all values. E.g., `True` and `False` form the type `bool`.\n",
    "\n",
    "\n",
    "* By a simple class definition, for example if one defines a class:\n",
    "\n",
    "    ```python\n",
    "    class UserID(int):\n",
    "        pass\n",
    "    ```\n",
    "then all instances of this class also form a type.\n",
    "\n",
    "\n",
    "* By specifying functions which can be used with variables of a type. E.g. all objects that have a `__len__` method form the type `Sized`. Both `[1, 2, 3]` and 'abc' belong to this type, since one can call len on them:\n",
    "\n",
    "```python\n",
    "len([1, 2, 3])  # OK\n",
    "len('abc')      # also OK\n",
    "len(42)         # not a member of Sized\n",
    "```\n",
    "\n",
    "\n",
    "* There are also more complex types. E.g., one can define the type `FancyList` as all lists containing only instances of `int`, `str` or their subclasses. The value `[1, 'abc', UserID(42)]` has this type.\n",
    "\n",
    "[source](https://www.python.org/dev/peps/pep-0483/#background)"
   ]
  },
  {
   "cell_type": "markdown",
   "metadata": {},
   "source": [
    "## Subtyping\n",
    "\n",
    "Let `<:` mean \"is a subtype of\". (So `A <: B` reads \"`A` is a subtype of `B`\".)\n",
    "\n",
    "`B <: A` iff:\n",
    "\n",
    "1. every value from `B` is also in the set of values of `A`; and\n",
    "\n",
    "2. every function from `A` is also in the set of functions of `B`.\n",
    "\n",
    "So the set of values becomes smaller in the process of subtyping, while the set of functions becomes larger. \n",
    "\n",
    "`Dog <: Animal`:\n",
    "\n",
    "1. There are less `Dog`s than `Animal`s (every `Dog` is an `Animal`, but not other way around).\n",
    "\n",
    "2. `Animal`s can do less than `Dog`s (`Dog` can do whatever `Animal` can, but not other way around). `Animal`s can't bark like `Dog`s, but both can eat and breathe."
   ]
  },
  {
   "cell_type": "code",
   "execution_count": null,
   "metadata": {},
   "outputs": [],
   "source": [
    "class Animal:\n",
    "    def eat(self): pass\n",
    "    def breathe(self): pass\n",
    "\n",
    "class Dog(Animal):\n",
    "    def bark(self): pass"
   ]
  },
  {
   "cell_type": "markdown",
   "metadata": {},
   "source": [
    "### Annotating variables\n",
    "\n",
    "`<variable>: <type> = <value>`"
   ]
  },
  {
   "cell_type": "code",
   "execution_count": null,
   "metadata": {},
   "outputs": [],
   "source": [
    "lassie: Dog"
   ]
  },
  {
   "cell_type": "code",
   "execution_count": null,
   "metadata": {},
   "outputs": [],
   "source": [
    "some_animal: Animal"
   ]
  },
  {
   "cell_type": "markdown",
   "metadata": {},
   "source": [
    "No values assigned, yes. There is no `lassie` and `some_animal` in runtime (using either would raise `NameError`). It's for type checker -- now it knows types of both."
   ]
  },
  {
   "cell_type": "markdown",
   "metadata": {},
   "source": [
    "### Assigning rules\n",
    "If `Dog <: Animal` (as in our case):\n",
    "- it is safe to assign: `some_animal = lassie`\n",
    "\n",
    "- it is unsafe to assign `lassie = some_animal`, **mypy** complains in this case:\n",
    "\n",
    "```\n",
    "error: Incompatible types in assignment (expression has type \"Animal\", variable has type \"Dog\")\n",
    "```"
   ]
  },
  {
   "cell_type": "markdown",
   "metadata": {},
   "source": [
    "### Annotating functions\n",
    "\n",
    "```python\n",
    "def function(attr1: Type1, attr2: Type2) -> ReturnType: ...\n",
    "```"
   ]
  },
  {
   "cell_type": "code",
   "execution_count": null,
   "metadata": {},
   "outputs": [],
   "source": [
    "def add_ints(x: int, y: int) -> int:\n",
    "    return x + y\n",
    "\n",
    "add_ints(1, 2)    # no mypy error\n",
    "add_ints(1, 2.0)  # error: Argument 2 to \"add_ints\" has incompatible type \"float\"; expected \"int\""
   ]
  },
  {
   "cell_type": "code",
   "execution_count": null,
   "metadata": {},
   "outputs": [],
   "source": [
    "def broken_add(x: int, y: int) -> str:\n",
    "    return x + y\n",
    "\n",
    "# error: Incompatible return value type (got \"int\", expected \"str\")"
   ]
  },
  {
   "cell_type": "markdown",
   "metadata": {},
   "source": [
    "## Building blocks"
   ]
  },
  {
   "cell_type": "markdown",
   "metadata": {},
   "source": [
    "### `Any`"
   ]
  },
  {
   "cell_type": "markdown",
   "metadata": {},
   "source": [
    "`Any` is consistent with every type and every type is consistent with `Any`.\n",
    "\n",
    "> [W]hen a value has type Any, the type checker will allow all operations on it, and a value of type Any can be assigned to a variable (or used as a return value) of a more constrained type. \n",
    "\n",
    "[https://www.python.org/dev/peps/pep-0484/#the-any-type]"
   ]
  },
  {
   "cell_type": "code",
   "execution_count": null,
   "metadata": {},
   "outputs": [],
   "source": [
    "from typing import Any"
   ]
  },
  {
   "cell_type": "code",
   "execution_count": null,
   "metadata": {},
   "outputs": [],
   "source": [
    "# checking types\n",
    "\n",
    "lassie: Dog\n",
    "anything: Any\n",
    "    \n",
    "lassie = anything  # no mypy error"
   ]
  },
  {
   "cell_type": "code",
   "execution_count": null,
   "metadata": {},
   "outputs": [],
   "source": [
    "lassie: Dog\n",
    "anything: Any\n",
    "    \n",
    "anything = lassie  # no mypy error"
   ]
  },
  {
   "cell_type": "code",
   "execution_count": null,
   "metadata": {},
   "outputs": [],
   "source": [
    "# checking attributes\n",
    "\n",
    "lassie: Dog\n",
    "lassie.bark()  # no mypy error\n",
    "lassie.fly()   # error: \"Dog\" has no attribute \"fly\"\n",
    "\n",
    "anything: Any\n",
    "anything.enter_hiperspace()  # no mypy error"
   ]
  },
  {
   "cell_type": "markdown",
   "metadata": {},
   "source": [
    "> `Any` can be considered a type that has all values and all methods. Combined with the definition of subtyping above, this places `Any` partially at the top (it has all values) and bottom (it has all methods) of the type hierarchy.\n",
    "\n",
    "[https://www.python.org/dev/peps/pep-0483/#summary-of-gradual-typing]"
   ]
  },
  {
   "cell_type": "markdown",
   "metadata": {},
   "source": [
    "```\n",
    "                      Any                     <- everything is Any                             \n",
    "                      / \\                        (like object               \n",
    "                     /*  \\*                       -- everything is object)                 \n",
    "                    /     \\                                         \n",
    "            SomeType1     SomeType2                                   \n",
    "           /       |       |       \\                                   \n",
    "          /        |       |        \\                                  \n",
    "         /         |       |         \\                                 \n",
    " Subtype1_1  Subtype1_2  Subtype2_1  Subtype2_2                           \n",
    "     |          |           |           |                              \n",
    "     |*         |*          |*          |*                             \n",
    "     |          |           |           |                              \n",
    "    Any        Any         Any         Any       <- Any has all attributes\n",
    "                                                     (unlike object\n",
    "                                                      -- object has no attrs)\n",
    "                                                      \n",
    "* consistency relationship, not subtyping, see below\n",
    "```"
   ]
  },
  {
   "cell_type": "markdown",
   "metadata": {},
   "source": [
    "Mind that relation between `Any` and other types is not subtyping relationship but being-consistent-with relationship. For formal definition and more context see https://www.python.org/dev/peps/pep-0483/#summary-of-gradual-typing."
   ]
  },
  {
   "cell_type": "markdown",
   "metadata": {},
   "source": [
    "### `Union`"
   ]
  },
  {
   "cell_type": "markdown",
   "metadata": {},
   "source": [
    "> `Union[t1, t2, ...]`. \n",
    "> Types that are subtype of at least one of t1 etc. are subtypes of this."
   ]
  },
  {
   "cell_type": "code",
   "execution_count": null,
   "metadata": {},
   "outputs": [],
   "source": [
    "from typing import Union"
   ]
  },
  {
   "cell_type": "code",
   "execution_count": null,
   "metadata": {},
   "outputs": [],
   "source": [
    "class Animal:\n",
    "    def eat(self): pass\n",
    "    \n",
    "class Dog(Animal): pass   \n",
    "class Cat(Animal): pass\n",
    "class Lizard(Animal): pass\n",
    "\n",
    "\n",
    "# only Cats and Dogs are allowed to eat :(\n",
    "def restricted_eat(animal: Union[Dog, Cat]) -> None:\n",
    "    animal.eat()\n",
    "    \n",
    "a_dog: Dog\n",
    "restricted_eat(a_dog)  # no mypy error\n",
    "\n",
    "a_cat: Cat\n",
    "restricted_eat(a_cat)  # no mypy error\n",
    "\n",
    "a_lizard: Lizard\n",
    "restricted_eat(a_lizard)  #  error: Argument 1 to \"restricted_eat\" has incompatible type \"Lizard\"; expected \"Union[Dog, Cat]\"\n",
    "\n",
    "# KEEP IN MIND THAT NOT RUNTIME CHECKS ARE MADE HERE!"
   ]
  },
  {
   "cell_type": "markdown",
   "metadata": {},
   "source": [
    "### `Optional` and constraining types"
   ]
  },
  {
   "cell_type": "markdown",
   "metadata": {},
   "source": [
    "> `Optional[t1]`. Alias for `Union[t1, None]`, i.e. `Union[t1, type(None)]`."
   ]
  },
  {
   "cell_type": "code",
   "execution_count": null,
   "metadata": {},
   "outputs": [],
   "source": [
    "from typing import Optional\n",
    "\n",
    "def get_user_id() -> Optional[int]:\n",
    "    pass\n",
    "\n",
    "def process_user_id(user_id: int):\n",
    "    pass\n",
    "\n",
    "user_id = get_user_id()\n",
    "process_user_id(user_id)  # error: \n",
    "# Argument 1 to \"process_pk\" has incompatible type \"Optional[int]\"; expected \"int\""
   ]
  },
  {
   "cell_type": "markdown",
   "metadata": {},
   "source": [
    "If we are, for some reason, sure that `get_pk()` will return an `int` (from context or ne understand from our code more than type checker) we can inform type checker of it."
   ]
  },
  {
   "cell_type": "markdown",
   "metadata": {},
   "source": [
    "#### Type constraining with assertions"
   ]
  },
  {
   "cell_type": "code",
   "execution_count": null,
   "metadata": {},
   "outputs": [],
   "source": [
    "user_id = get_user_id()\n",
    "\n",
    "assert isinstance(user_id, int)\n",
    "# or: user_id is not None\n",
    "process_user_id(user_id)  # no mypy error"
   ]
  },
  {
   "cell_type": "markdown",
   "metadata": {},
   "source": [
    "This introduces small runtime overhead. In bonus we get additional runtime checks."
   ]
  },
  {
   "cell_type": "markdown",
   "metadata": {},
   "source": [
    "#### Type constraining with type casting"
   ]
  },
  {
   "cell_type": "code",
   "execution_count": null,
   "metadata": {},
   "outputs": [],
   "source": []
  },
  {
   "cell_type": "code",
   "execution_count": null,
   "metadata": {},
   "outputs": [],
   "source": []
  },
  {
   "cell_type": "code",
   "execution_count": null,
   "metadata": {},
   "outputs": [],
   "source": []
  },
  {
   "cell_type": "markdown",
   "metadata": {},
   "source": [
    "### `List` and `Tuple`/`NamedTuple`"
   ]
  },
  {
   "cell_type": "code",
   "execution_count": null,
   "metadata": {},
   "outputs": [],
   "source": [
    "from typing import List\n",
    "\n",
    "my_list: List[int] = [1, 2, 3]  # no mypy error\n",
    "my_other_list: List[int] = [1, 2, '3']  #  error: List item 2 has incompatible type \"str\"; expected \"int\""
   ]
  },
  {
   "cell_type": "code",
   "execution_count": null,
   "metadata": {},
   "outputs": [],
   "source": [
    "from typing import Tuple\n",
    "\n",
    "bob: Tuple[str, str, int] = ('Bob', 'Smith', 25)  # no mypy error\n",
    "    \n",
    "frank: Tuple[str, str, int] = ('Frank', 'Brown', 43.4)  # error:\n",
    "# Incompatible types in assignment (expression has type \"Tuple[str, str, float]\", variable has type \"Tuple[str, str, int]\")\n",
    "\n",
    "ann: Tuple[str, str, int] = ('Ann', 'X', 1, 2)  # error: \n",
    "# Incompatible types in assignment (expression has type \"Tuple[str, str, int, int]\", variable has type \"Tuple[str, str, int]\")\n",
    "\n",
    "# we can use ellipsis to define type repetition\n",
    "immutable_list: Tuple[int, ...] = (5, 8, 4, -1)  # no mypy error"
   ]
  },
  {
   "cell_type": "code",
   "execution_count": null,
   "metadata": {},
   "outputs": [],
   "source": [
    "from typing import NamedTuple\n",
    "\n",
    "class Person(NamedTuple):\n",
    "    first_name: str\n",
    "    last_name: str\n",
    "    age: int\n",
    "        \n",
    "Person('Kate', 'Smith', '32')  # error: Argument 3 to \"Person\" has incompatible type \"str\"; expected \"int\""
   ]
  },
  {
   "cell_type": "markdown",
   "metadata": {},
   "source": [
    "### ABCs/protocols"
   ]
  },
  {
   "cell_type": "code",
   "execution_count": null,
   "metadata": {},
   "outputs": [],
   "source": [
    "from typing import Collection, Sequence\n",
    "\n",
    "names1: Collection = {'Frank', 'Bob', 'Kate'}  # no mypy error\n",
    "\n",
    "names2: Sequence = {'Frank', 'Bob', 'Kate'}  # error:\n",
    "# Incompatible types in assignment (expression has type \"Set[str]\", variable has type \"Sequence[Any]\")"
   ]
  },
  {
   "cell_type": "code",
   "execution_count": null,
   "metadata": {},
   "outputs": [],
   "source": [
    "from typing import Container\n",
    "\n",
    "class C:\n",
    "    def __contains__(self, obj) -> bool:\n",
    "        pass    \n",
    "c1: Container = C()  # no mypy error\n",
    "\n",
    "c2: Container = object()  # error:\n",
    "# Incompatible types in assignment (expression has type \"object\", variable has type \"Container[Any]\")"
   ]
  },
  {
   "cell_type": "markdown",
   "metadata": {},
   "source": [
    "### Aliases"
   ]
  },
  {
   "cell_type": "code",
   "execution_count": null,
   "metadata": {},
   "outputs": [],
   "source": [
    "from typing import Iterable, Tuple\n",
    "\n",
    "FirstName = str\n",
    "LastName = str\n",
    "Age = int\n",
    "Employee = Tuple[FirstName, LastName, Age]\n",
    "Employees = Iterable[Employee]\n",
    "\n",
    "employees1: Employees = [\n",
    "    ('Bob', 'Smith', 25),\n",
    "    ('Kate', 'Brown', 32),\n",
    "]  # no mypy errors\n",
    "\n",
    "employees2: Employees = [\n",
    "    ('Frank', 'Smith', '25'),\n",
    "]  # error: List item 0 has incompatible type \"Tuple[str, str, str]\"; expected \"Tuple[str, str, int]\""
   ]
  },
  {
   "cell_type": "markdown",
   "metadata": {},
   "source": [
    "### `NewType` helper function"
   ]
  },
  {
   "cell_type": "markdown",
   "metadata": {},
   "source": [
    "Let's say we have `user_id` which is an int, but we don't want to mix it up with other ints. "
   ]
  },
  {
   "cell_type": "code",
   "execution_count": null,
   "metadata": {},
   "outputs": [],
   "source": [
    "def update_height(user_id: int, new_height: int):\n",
    "    pass\n",
    "\n",
    "user_id = 1138\n",
    "new_height = 44\n",
    "update_height(new_height, user_id)  # no mypy error, yet the code is wrong"
   ]
  },
  {
   "cell_type": "markdown",
   "metadata": {},
   "source": [
    "#### Approach 1"
   ]
  },
  {
   "cell_type": "code",
   "execution_count": null,
   "metadata": {},
   "outputs": [],
   "source": [
    "class UserId(int):\n",
    "    pass\n",
    "\n",
    "def update_height(user_id: UserId, new_height: int):\n",
    "    pass\n",
    "\n",
    "user_id = UserId(1138)\n",
    "new_height = 44\n",
    "update_height(new_height, user_id) # error: \n",
    "# Argument 1 to \"update_height\" has incompatible type \"int\"; expected \"UserId\""
   ]
  },
  {
   "cell_type": "markdown",
   "metadata": {},
   "source": [
    "#### Approach 2\n",
    "\n",
    "Unfortunately passing value through a class introduces runtime overhead. `NewType` deals with it:"
   ]
  },
  {
   "cell_type": "code",
   "execution_count": null,
   "metadata": {},
   "outputs": [],
   "source": [
    "from typing import NewType\n",
    "\n",
    "UserId = NewType('UserId', int)\n",
    "\n",
    "def update_height(user_id: UserId, new_height: int):\n",
    "    pass\n",
    "\n",
    "user_id = UserId(1138)\n",
    "new_height = 44\n",
    "update_height(new_height, user_id)  #  error:\n",
    "# Argument 1 to \"update_height\" has incompatible type \"int\"; expected \"UserId\""
   ]
  },
  {
   "cell_type": "markdown",
   "metadata": {},
   "source": [
    "Minimal overhead in runtime, since `NewType` simply returns identity function, with almost zero overhead:\n",
    "\n",
    "```python\n",
    "def NewType(name, tp):\n",
    "    def new_type(x):\n",
    "        return x\n",
    "\n",
    "    new_type.__name__ = name\n",
    "    new_type.__supertype__ = tp\n",
    "    return new_type\n",
    "```\n",
    "\n",
    "[https://github.com/python/typing/blob/master/src/typing.py#L2210-L2234"
   ]
  },
  {
   "cell_type": "code",
   "execution_count": null,
   "metadata": {},
   "outputs": [],
   "source": []
  }
 ],
 "metadata": {
  "kernelspec": {
   "display_name": "Python 3",
   "language": "python",
   "name": "python3"
  },
  "language_info": {
   "codemirror_mode": {
    "name": "ipython",
    "version": 3
   },
   "file_extension": ".py",
   "mimetype": "text/x-python",
   "name": "python",
   "nbconvert_exporter": "python",
   "pygments_lexer": "ipython3",
   "version": "3.6.5"
  }
 },
 "nbformat": 4,
 "nbformat_minor": 2
}
